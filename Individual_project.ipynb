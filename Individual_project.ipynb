{
 "cells": [
  {
   "cell_type": "markdown",
   "id": "a3ca010b",
   "metadata": {},
   "source": [
    "# Regression Metrics for Continuous Outcomes:\n",
    "\n",
    "### R-Squared (R2) refers to the proportion of variation in the outcome explained by the predictor variables.\n",
    "### Adjusted R-Squared compares the descriptive power of regression models.\n",
    "### Mean Squared Error (MSE) is a popular error metric for regression problems.\n",
    "### Root Mean Squared Error (RMSE) is an extension of the mean squared error, measuring the average error performed by the model in its predictions. Absolute Error is the difference between measured (or inferred) value and the actual value of a quantity Mean Absolute Error (MAE) measures the prediction error, i.e., the average absolute difference between observed and predicted outcomes.\n",
    "### Residual Standard Error (RSE) is a variant of the RMSE adjusted for the number of predictors in the model.\n",
    "### Mean Absolute Deviation (MAD) provides information on the variability of a dataset.\n",
    "### Maximum Residual Error (MRE)\n",
    "### Root Relative Squared Error (RRSE) is the root of the squared error of the predictions relative to a naive model predicting the mean.\n",
    "### Bayesian Information Criteria (BIC) is a criterion for model selection among a finite set of models.\n",
    "### Mallows’s Cp assesses the fit of a regression model that has been estimated using ordinary least squares.\n",
    "### Correlation Coefficient measures how strong a relationship between two variables is.\n",
    "\n",
    "# Classification Metrics for Proper Classification:\n",
    "### Accuracy Score\n",
    "### Precession\n",
    "### Recall\n",
    "### F1-Score\n",
    "### Confusion Matrix\n",
    "### ROC Curve\n",
    "### AUC Curve"
   ]
  },
  {
   "cell_type": "code",
   "execution_count": null,
   "id": "66c5a3d2",
   "metadata": {},
   "outputs": [],
   "source": [
    "import pandas as pd\n",
    "import numpy as np"
   ]
  },
  {
   "cell_type": "code",
   "execution_count": 4,
   "id": "369b7452",
   "metadata": {},
   "outputs": [],
   "source": [
    "df=pd.read_csv(r'C:\\Users\\aruns\\Downloads\\qsar_aquatic_toxicity (1).csv')"
   ]
  },
  {
   "cell_type": "code",
   "execution_count": 5,
   "id": "97ee3993",
   "metadata": {},
   "outputs": [
    {
     "data": {
      "text/html": [
       "<div>\n",
       "<style scoped>\n",
       "    .dataframe tbody tr th:only-of-type {\n",
       "        vertical-align: middle;\n",
       "    }\n",
       "\n",
       "    .dataframe tbody tr th {\n",
       "        vertical-align: top;\n",
       "    }\n",
       "\n",
       "    .dataframe thead th {\n",
       "        text-align: right;\n",
       "    }\n",
       "</style>\n",
       "<table border=\"1\" class=\"dataframe\">\n",
       "  <thead>\n",
       "    <tr style=\"text-align: right;\">\n",
       "      <th></th>\n",
       "      <th>0</th>\n",
       "      <th>0.1</th>\n",
       "      <th>0.2</th>\n",
       "      <th>2.419</th>\n",
       "      <th>1.225</th>\n",
       "      <th>0.667</th>\n",
       "      <th>0.3</th>\n",
       "      <th>0.4</th>\n",
       "      <th>3.74</th>\n",
       "    </tr>\n",
       "  </thead>\n",
       "  <tbody>\n",
       "    <tr>\n",
       "      <th>0</th>\n",
       "      <td>0.00</td>\n",
       "      <td>0.000</td>\n",
       "      <td>0</td>\n",
       "      <td>2.638</td>\n",
       "      <td>1.401</td>\n",
       "      <td>0.632</td>\n",
       "      <td>0</td>\n",
       "      <td>0</td>\n",
       "      <td>4.330</td>\n",
       "    </tr>\n",
       "    <tr>\n",
       "      <th>1</th>\n",
       "      <td>9.23</td>\n",
       "      <td>11.000</td>\n",
       "      <td>0</td>\n",
       "      <td>5.799</td>\n",
       "      <td>2.930</td>\n",
       "      <td>0.486</td>\n",
       "      <td>0</td>\n",
       "      <td>0</td>\n",
       "      <td>7.019</td>\n",
       "    </tr>\n",
       "    <tr>\n",
       "      <th>2</th>\n",
       "      <td>9.23</td>\n",
       "      <td>11.000</td>\n",
       "      <td>0</td>\n",
       "      <td>5.453</td>\n",
       "      <td>2.887</td>\n",
       "      <td>0.495</td>\n",
       "      <td>0</td>\n",
       "      <td>0</td>\n",
       "      <td>6.723</td>\n",
       "    </tr>\n",
       "    <tr>\n",
       "      <th>3</th>\n",
       "      <td>9.23</td>\n",
       "      <td>11.000</td>\n",
       "      <td>0</td>\n",
       "      <td>4.068</td>\n",
       "      <td>2.758</td>\n",
       "      <td>0.695</td>\n",
       "      <td>0</td>\n",
       "      <td>0</td>\n",
       "      <td>5.979</td>\n",
       "    </tr>\n",
       "    <tr>\n",
       "      <th>4</th>\n",
       "      <td>215.34</td>\n",
       "      <td>327.629</td>\n",
       "      <td>3</td>\n",
       "      <td>0.189</td>\n",
       "      <td>4.677</td>\n",
       "      <td>1.333</td>\n",
       "      <td>0</td>\n",
       "      <td>4</td>\n",
       "      <td>6.064</td>\n",
       "    </tr>\n",
       "    <tr>\n",
       "      <th>...</th>\n",
       "      <td>...</td>\n",
       "      <td>...</td>\n",
       "      <td>...</td>\n",
       "      <td>...</td>\n",
       "      <td>...</td>\n",
       "      <td>...</td>\n",
       "      <td>...</td>\n",
       "      <td>...</td>\n",
       "      <td>...</td>\n",
       "    </tr>\n",
       "    <tr>\n",
       "      <th>540</th>\n",
       "      <td>24.06</td>\n",
       "      <td>35.776</td>\n",
       "      <td>2</td>\n",
       "      <td>3.326</td>\n",
       "      <td>2.837</td>\n",
       "      <td>0.849</td>\n",
       "      <td>2</td>\n",
       "      <td>0</td>\n",
       "      <td>4.651</td>\n",
       "    </tr>\n",
       "    <tr>\n",
       "      <th>541</th>\n",
       "      <td>9.23</td>\n",
       "      <td>11.000</td>\n",
       "      <td>0</td>\n",
       "      <td>3.275</td>\n",
       "      <td>2.727</td>\n",
       "      <td>0.874</td>\n",
       "      <td>0</td>\n",
       "      <td>0</td>\n",
       "      <td>3.953</td>\n",
       "    </tr>\n",
       "    <tr>\n",
       "      <th>542</th>\n",
       "      <td>0.00</td>\n",
       "      <td>0.000</td>\n",
       "      <td>0</td>\n",
       "      <td>5.165</td>\n",
       "      <td>3.111</td>\n",
       "      <td>0.732</td>\n",
       "      <td>0</td>\n",
       "      <td>0</td>\n",
       "      <td>6.219</td>\n",
       "    </tr>\n",
       "    <tr>\n",
       "      <th>543</th>\n",
       "      <td>13.14</td>\n",
       "      <td>9.507</td>\n",
       "      <td>0</td>\n",
       "      <td>2.859</td>\n",
       "      <td>2.614</td>\n",
       "      <td>0.827</td>\n",
       "      <td>0</td>\n",
       "      <td>0</td>\n",
       "      <td>4.995</td>\n",
       "    </tr>\n",
       "    <tr>\n",
       "      <th>544</th>\n",
       "      <td>0.00</td>\n",
       "      <td>0.000</td>\n",
       "      <td>0</td>\n",
       "      <td>2.255</td>\n",
       "      <td>1.800</td>\n",
       "      <td>0.917</td>\n",
       "      <td>0</td>\n",
       "      <td>0</td>\n",
       "      <td>2.480</td>\n",
       "    </tr>\n",
       "  </tbody>\n",
       "</table>\n",
       "<p>545 rows × 9 columns</p>\n",
       "</div>"
      ],
      "text/plain": [
       "          0      0.1  0.2  2.419  1.225  0.667  0.3  0.4   3.74\n",
       "0      0.00    0.000    0  2.638  1.401  0.632    0    0  4.330\n",
       "1      9.23   11.000    0  5.799  2.930  0.486    0    0  7.019\n",
       "2      9.23   11.000    0  5.453  2.887  0.495    0    0  6.723\n",
       "3      9.23   11.000    0  4.068  2.758  0.695    0    0  5.979\n",
       "4    215.34  327.629    3  0.189  4.677  1.333    0    4  6.064\n",
       "..      ...      ...  ...    ...    ...    ...  ...  ...    ...\n",
       "540   24.06   35.776    2  3.326  2.837  0.849    2    0  4.651\n",
       "541    9.23   11.000    0  3.275  2.727  0.874    0    0  3.953\n",
       "542    0.00    0.000    0  5.165  3.111  0.732    0    0  6.219\n",
       "543   13.14    9.507    0  2.859  2.614  0.827    0    0  4.995\n",
       "544    0.00    0.000    0  2.255  1.800  0.917    0    0  2.480\n",
       "\n",
       "[545 rows x 9 columns]"
      ]
     },
     "execution_count": 5,
     "metadata": {},
     "output_type": "execute_result"
    }
   ],
   "source": [
    "df"
   ]
  },
  {
   "cell_type": "code",
   "execution_count": 6,
   "id": "714d5126",
   "metadata": {},
   "outputs": [],
   "source": [
    "df=pd.read_csv(r'C:\\Users\\aruns\\Downloads\\qsar_aquatic_toxicity (1).csv',header=None,names=['TPSA(Tot)','SAacc','H-050','MLOGP','RDCHI','GATS1p',\n",
    "                                                  'nN','C-040','quantitative response, LC50 [-LOG(mol/L)]'])"
   ]
  },
  {
   "cell_type": "code",
   "execution_count": 8,
   "id": "b6c362ea",
   "metadata": {},
   "outputs": [
    {
     "data": {
      "text/html": [
       "<div>\n",
       "<style scoped>\n",
       "    .dataframe tbody tr th:only-of-type {\n",
       "        vertical-align: middle;\n",
       "    }\n",
       "\n",
       "    .dataframe tbody tr th {\n",
       "        vertical-align: top;\n",
       "    }\n",
       "\n",
       "    .dataframe thead th {\n",
       "        text-align: right;\n",
       "    }\n",
       "</style>\n",
       "<table border=\"1\" class=\"dataframe\">\n",
       "  <thead>\n",
       "    <tr style=\"text-align: right;\">\n",
       "      <th></th>\n",
       "      <th>TPSA(Tot)</th>\n",
       "      <th>SAacc</th>\n",
       "      <th>H-050</th>\n",
       "      <th>MLOGP</th>\n",
       "      <th>RDCHI</th>\n",
       "      <th>GATS1p</th>\n",
       "      <th>nN</th>\n",
       "      <th>C-040</th>\n",
       "      <th>quantitative response, LC50 [-LOG(mol/L)]</th>\n",
       "    </tr>\n",
       "  </thead>\n",
       "  <tbody>\n",
       "    <tr>\n",
       "      <th>0</th>\n",
       "      <td>0.00</td>\n",
       "      <td>0.000</td>\n",
       "      <td>0</td>\n",
       "      <td>2.419</td>\n",
       "      <td>1.225</td>\n",
       "      <td>0.667</td>\n",
       "      <td>0</td>\n",
       "      <td>0</td>\n",
       "      <td>3.740</td>\n",
       "    </tr>\n",
       "    <tr>\n",
       "      <th>1</th>\n",
       "      <td>0.00</td>\n",
       "      <td>0.000</td>\n",
       "      <td>0</td>\n",
       "      <td>2.638</td>\n",
       "      <td>1.401</td>\n",
       "      <td>0.632</td>\n",
       "      <td>0</td>\n",
       "      <td>0</td>\n",
       "      <td>4.330</td>\n",
       "    </tr>\n",
       "    <tr>\n",
       "      <th>2</th>\n",
       "      <td>9.23</td>\n",
       "      <td>11.000</td>\n",
       "      <td>0</td>\n",
       "      <td>5.799</td>\n",
       "      <td>2.930</td>\n",
       "      <td>0.486</td>\n",
       "      <td>0</td>\n",
       "      <td>0</td>\n",
       "      <td>7.019</td>\n",
       "    </tr>\n",
       "    <tr>\n",
       "      <th>3</th>\n",
       "      <td>9.23</td>\n",
       "      <td>11.000</td>\n",
       "      <td>0</td>\n",
       "      <td>5.453</td>\n",
       "      <td>2.887</td>\n",
       "      <td>0.495</td>\n",
       "      <td>0</td>\n",
       "      <td>0</td>\n",
       "      <td>6.723</td>\n",
       "    </tr>\n",
       "    <tr>\n",
       "      <th>4</th>\n",
       "      <td>9.23</td>\n",
       "      <td>11.000</td>\n",
       "      <td>0</td>\n",
       "      <td>4.068</td>\n",
       "      <td>2.758</td>\n",
       "      <td>0.695</td>\n",
       "      <td>0</td>\n",
       "      <td>0</td>\n",
       "      <td>5.979</td>\n",
       "    </tr>\n",
       "    <tr>\n",
       "      <th>...</th>\n",
       "      <td>...</td>\n",
       "      <td>...</td>\n",
       "      <td>...</td>\n",
       "      <td>...</td>\n",
       "      <td>...</td>\n",
       "      <td>...</td>\n",
       "      <td>...</td>\n",
       "      <td>...</td>\n",
       "      <td>...</td>\n",
       "    </tr>\n",
       "    <tr>\n",
       "      <th>541</th>\n",
       "      <td>24.06</td>\n",
       "      <td>35.776</td>\n",
       "      <td>2</td>\n",
       "      <td>3.326</td>\n",
       "      <td>2.837</td>\n",
       "      <td>0.849</td>\n",
       "      <td>2</td>\n",
       "      <td>0</td>\n",
       "      <td>4.651</td>\n",
       "    </tr>\n",
       "    <tr>\n",
       "      <th>542</th>\n",
       "      <td>9.23</td>\n",
       "      <td>11.000</td>\n",
       "      <td>0</td>\n",
       "      <td>3.275</td>\n",
       "      <td>2.727</td>\n",
       "      <td>0.874</td>\n",
       "      <td>0</td>\n",
       "      <td>0</td>\n",
       "      <td>3.953</td>\n",
       "    </tr>\n",
       "    <tr>\n",
       "      <th>543</th>\n",
       "      <td>0.00</td>\n",
       "      <td>0.000</td>\n",
       "      <td>0</td>\n",
       "      <td>5.165</td>\n",
       "      <td>3.111</td>\n",
       "      <td>0.732</td>\n",
       "      <td>0</td>\n",
       "      <td>0</td>\n",
       "      <td>6.219</td>\n",
       "    </tr>\n",
       "    <tr>\n",
       "      <th>544</th>\n",
       "      <td>13.14</td>\n",
       "      <td>9.507</td>\n",
       "      <td>0</td>\n",
       "      <td>2.859</td>\n",
       "      <td>2.614</td>\n",
       "      <td>0.827</td>\n",
       "      <td>0</td>\n",
       "      <td>0</td>\n",
       "      <td>4.995</td>\n",
       "    </tr>\n",
       "    <tr>\n",
       "      <th>545</th>\n",
       "      <td>0.00</td>\n",
       "      <td>0.000</td>\n",
       "      <td>0</td>\n",
       "      <td>2.255</td>\n",
       "      <td>1.800</td>\n",
       "      <td>0.917</td>\n",
       "      <td>0</td>\n",
       "      <td>0</td>\n",
       "      <td>2.480</td>\n",
       "    </tr>\n",
       "  </tbody>\n",
       "</table>\n",
       "<p>546 rows × 9 columns</p>\n",
       "</div>"
      ],
      "text/plain": [
       "     TPSA(Tot)   SAacc  H-050  MLOGP  RDCHI  GATS1p  nN  C-040  \\\n",
       "0         0.00   0.000      0  2.419  1.225   0.667   0      0   \n",
       "1         0.00   0.000      0  2.638  1.401   0.632   0      0   \n",
       "2         9.23  11.000      0  5.799  2.930   0.486   0      0   \n",
       "3         9.23  11.000      0  5.453  2.887   0.495   0      0   \n",
       "4         9.23  11.000      0  4.068  2.758   0.695   0      0   \n",
       "..         ...     ...    ...    ...    ...     ...  ..    ...   \n",
       "541      24.06  35.776      2  3.326  2.837   0.849   2      0   \n",
       "542       9.23  11.000      0  3.275  2.727   0.874   0      0   \n",
       "543       0.00   0.000      0  5.165  3.111   0.732   0      0   \n",
       "544      13.14   9.507      0  2.859  2.614   0.827   0      0   \n",
       "545       0.00   0.000      0  2.255  1.800   0.917   0      0   \n",
       "\n",
       "     quantitative response, LC50 [-LOG(mol/L)]  \n",
       "0                                        3.740  \n",
       "1                                        4.330  \n",
       "2                                        7.019  \n",
       "3                                        6.723  \n",
       "4                                        5.979  \n",
       "..                                         ...  \n",
       "541                                      4.651  \n",
       "542                                      3.953  \n",
       "543                                      6.219  \n",
       "544                                      4.995  \n",
       "545                                      2.480  \n",
       "\n",
       "[546 rows x 9 columns]"
      ]
     },
     "execution_count": 8,
     "metadata": {},
     "output_type": "execute_result"
    }
   ],
   "source": [
    "df"
   ]
  },
  {
   "cell_type": "code",
   "execution_count": 9,
   "id": "22f43054",
   "metadata": {},
   "outputs": [
    {
     "data": {
      "text/plain": [
       "TPSA(Tot)                                    0\n",
       "SAacc                                        0\n",
       "H-050                                        0\n",
       "MLOGP                                        0\n",
       "RDCHI                                        0\n",
       "GATS1p                                       0\n",
       "nN                                           0\n",
       "C-040                                        0\n",
       "quantitative response, LC50 [-LOG(mol/L)]    0\n",
       "dtype: int64"
      ]
     },
     "execution_count": 9,
     "metadata": {},
     "output_type": "execute_result"
    }
   ],
   "source": [
    "df.isnull().sum()"
   ]
  },
  {
   "cell_type": "code",
   "execution_count": 11,
   "id": "572b2e0a",
   "metadata": {},
   "outputs": [
    {
     "data": {
      "text/plain": [
       "0"
      ]
     },
     "execution_count": 11,
     "metadata": {},
     "output_type": "execute_result"
    }
   ],
   "source": [
    "df.duplicated().sum()"
   ]
  },
  {
   "cell_type": "code",
   "execution_count": 12,
   "id": "253312ba",
   "metadata": {},
   "outputs": [
    {
     "data": {
      "text/plain": [
       "TPSA(Tot)                                    529\n",
       "SAacc                                        518\n",
       "H-050                                        493\n",
       "MLOGP                                        542\n",
       "RDCHI                                        532\n",
       "GATS1p                                       539\n",
       "nN                                           539\n",
       "C-040                                        412\n",
       "quantitative response, LC50 [-LOG(mol/L)]    529\n",
       "dtype: int64"
      ]
     },
     "execution_count": 12,
     "metadata": {},
     "output_type": "execute_result"
    }
   ],
   "source": [
    "Q1 = df.quantile(0.25)\n",
    "Q3 = df.quantile(0.75)\n",
    "IQR = Q3 - Q1\n",
    "\n",
    "outliers=df[(df < (Q1 - 1.5 *IQR)) | (df > (Q3 + 1.5 *IQR)) ]\n",
    "outliers.isnull().sum()"
   ]
  },
  {
   "cell_type": "code",
   "execution_count": 13,
   "id": "5a0f8894",
   "metadata": {},
   "outputs": [
    {
     "data": {
      "text/plain": [
       "(362, 9)"
      ]
     },
     "execution_count": 13,
     "metadata": {},
     "output_type": "execute_result"
    }
   ],
   "source": [
    "df1=df[~((df < (Q1 - 1.5 *IQR)) | (df > (Q3 + 1.5 *IQR))).any(axis=1)]\n",
    "df1.shape"
   ]
  },
  {
   "cell_type": "code",
   "execution_count": 14,
   "id": "8e5be339",
   "metadata": {},
   "outputs": [
    {
     "data": {
      "text/html": [
       "<div>\n",
       "<style scoped>\n",
       "    .dataframe tbody tr th:only-of-type {\n",
       "        vertical-align: middle;\n",
       "    }\n",
       "\n",
       "    .dataframe tbody tr th {\n",
       "        vertical-align: top;\n",
       "    }\n",
       "\n",
       "    .dataframe thead th {\n",
       "        text-align: right;\n",
       "    }\n",
       "</style>\n",
       "<table border=\"1\" class=\"dataframe\">\n",
       "  <thead>\n",
       "    <tr style=\"text-align: right;\">\n",
       "      <th></th>\n",
       "      <th>TPSA(Tot)</th>\n",
       "      <th>SAacc</th>\n",
       "      <th>H-050</th>\n",
       "      <th>MLOGP</th>\n",
       "      <th>RDCHI</th>\n",
       "      <th>GATS1p</th>\n",
       "      <th>nN</th>\n",
       "      <th>C-040</th>\n",
       "      <th>quantitative response, LC50 [-LOG(mol/L)]</th>\n",
       "    </tr>\n",
       "  </thead>\n",
       "  <tbody>\n",
       "    <tr>\n",
       "      <th>count</th>\n",
       "      <td>362.000000</td>\n",
       "      <td>362.000000</td>\n",
       "      <td>362.000000</td>\n",
       "      <td>362.000000</td>\n",
       "      <td>362.000000</td>\n",
       "      <td>362.000000</td>\n",
       "      <td>362.000000</td>\n",
       "      <td>362.0</td>\n",
       "      <td>362.000000</td>\n",
       "    </tr>\n",
       "    <tr>\n",
       "      <th>mean</th>\n",
       "      <td>32.913646</td>\n",
       "      <td>34.948807</td>\n",
       "      <td>0.527624</td>\n",
       "      <td>2.639749</td>\n",
       "      <td>2.319315</td>\n",
       "      <td>0.973354</td>\n",
       "      <td>0.718232</td>\n",
       "      <td>0.0</td>\n",
       "      <td>4.752171</td>\n",
       "    </tr>\n",
       "    <tr>\n",
       "      <th>std</th>\n",
       "      <td>32.861327</td>\n",
       "      <td>34.696924</td>\n",
       "      <td>0.737263</td>\n",
       "      <td>1.436154</td>\n",
       "      <td>0.587386</td>\n",
       "      <td>0.382539</td>\n",
       "      <td>1.080243</td>\n",
       "      <td>0.0</td>\n",
       "      <td>1.452918</td>\n",
       "    </tr>\n",
       "    <tr>\n",
       "      <th>min</th>\n",
       "      <td>0.000000</td>\n",
       "      <td>0.000000</td>\n",
       "      <td>0.000000</td>\n",
       "      <td>-1.222000</td>\n",
       "      <td>1.000000</td>\n",
       "      <td>0.281000</td>\n",
       "      <td>0.000000</td>\n",
       "      <td>0.0</td>\n",
       "      <td>0.673000</td>\n",
       "    </tr>\n",
       "    <tr>\n",
       "      <th>25%</th>\n",
       "      <td>0.000000</td>\n",
       "      <td>0.000000</td>\n",
       "      <td>0.000000</td>\n",
       "      <td>1.748250</td>\n",
       "      <td>1.963750</td>\n",
       "      <td>0.676250</td>\n",
       "      <td>0.000000</td>\n",
       "      <td>0.0</td>\n",
       "      <td>3.728750</td>\n",
       "    </tr>\n",
       "    <tr>\n",
       "      <th>50%</th>\n",
       "      <td>25.040000</td>\n",
       "      <td>32.897000</td>\n",
       "      <td>0.000000</td>\n",
       "      <td>2.597000</td>\n",
       "      <td>2.224500</td>\n",
       "      <td>0.941500</td>\n",
       "      <td>0.000000</td>\n",
       "      <td>0.0</td>\n",
       "      <td>4.716500</td>\n",
       "    </tr>\n",
       "    <tr>\n",
       "      <th>75%</th>\n",
       "      <td>47.057500</td>\n",
       "      <td>53.344750</td>\n",
       "      <td>1.000000</td>\n",
       "      <td>3.555000</td>\n",
       "      <td>2.719000</td>\n",
       "      <td>1.189000</td>\n",
       "      <td>1.000000</td>\n",
       "      <td>0.0</td>\n",
       "      <td>5.639000</td>\n",
       "    </tr>\n",
       "    <tr>\n",
       "      <th>max</th>\n",
       "      <td>137.460000</td>\n",
       "      <td>161.259000</td>\n",
       "      <td>2.000000</td>\n",
       "      <td>6.470000</td>\n",
       "      <td>4.026000</td>\n",
       "      <td>2.003000</td>\n",
       "      <td>5.000000</td>\n",
       "      <td>0.0</td>\n",
       "      <td>8.564000</td>\n",
       "    </tr>\n",
       "  </tbody>\n",
       "</table>\n",
       "</div>"
      ],
      "text/plain": [
       "        TPSA(Tot)       SAacc       H-050       MLOGP       RDCHI      GATS1p  \\\n",
       "count  362.000000  362.000000  362.000000  362.000000  362.000000  362.000000   \n",
       "mean    32.913646   34.948807    0.527624    2.639749    2.319315    0.973354   \n",
       "std     32.861327   34.696924    0.737263    1.436154    0.587386    0.382539   \n",
       "min      0.000000    0.000000    0.000000   -1.222000    1.000000    0.281000   \n",
       "25%      0.000000    0.000000    0.000000    1.748250    1.963750    0.676250   \n",
       "50%     25.040000   32.897000    0.000000    2.597000    2.224500    0.941500   \n",
       "75%     47.057500   53.344750    1.000000    3.555000    2.719000    1.189000   \n",
       "max    137.460000  161.259000    2.000000    6.470000    4.026000    2.003000   \n",
       "\n",
       "               nN  C-040  quantitative response, LC50 [-LOG(mol/L)]  \n",
       "count  362.000000  362.0                                 362.000000  \n",
       "mean     0.718232    0.0                                   4.752171  \n",
       "std      1.080243    0.0                                   1.452918  \n",
       "min      0.000000    0.0                                   0.673000  \n",
       "25%      0.000000    0.0                                   3.728750  \n",
       "50%      0.000000    0.0                                   4.716500  \n",
       "75%      1.000000    0.0                                   5.639000  \n",
       "max      5.000000    0.0                                   8.564000  "
      ]
     },
     "execution_count": 14,
     "metadata": {},
     "output_type": "execute_result"
    }
   ],
   "source": [
    "df1.describe()"
   ]
  },
  {
   "cell_type": "code",
   "execution_count": 45,
   "id": "817ae65e",
   "metadata": {},
   "outputs": [
    {
     "data": {
      "text/html": [
       "<div>\n",
       "<style scoped>\n",
       "    .dataframe tbody tr th:only-of-type {\n",
       "        vertical-align: middle;\n",
       "    }\n",
       "\n",
       "    .dataframe tbody tr th {\n",
       "        vertical-align: top;\n",
       "    }\n",
       "\n",
       "    .dataframe thead th {\n",
       "        text-align: right;\n",
       "    }\n",
       "</style>\n",
       "<table border=\"1\" class=\"dataframe\">\n",
       "  <thead>\n",
       "    <tr style=\"text-align: right;\">\n",
       "      <th></th>\n",
       "      <th>TPSA(Tot)</th>\n",
       "      <th>SAacc</th>\n",
       "      <th>H-050</th>\n",
       "      <th>MLOGP</th>\n",
       "      <th>RDCHI</th>\n",
       "      <th>GATS1p</th>\n",
       "      <th>nN</th>\n",
       "      <th>C-040</th>\n",
       "      <th>quantitative response, LC50 [-LOG(mol/L)]</th>\n",
       "    </tr>\n",
       "  </thead>\n",
       "  <tbody>\n",
       "    <tr>\n",
       "      <th>0</th>\n",
       "      <td>0.00</td>\n",
       "      <td>0.000</td>\n",
       "      <td>0</td>\n",
       "      <td>2.419</td>\n",
       "      <td>1.225</td>\n",
       "      <td>0.667</td>\n",
       "      <td>0</td>\n",
       "      <td>0</td>\n",
       "      <td>3.740</td>\n",
       "    </tr>\n",
       "    <tr>\n",
       "      <th>1</th>\n",
       "      <td>0.00</td>\n",
       "      <td>0.000</td>\n",
       "      <td>0</td>\n",
       "      <td>2.638</td>\n",
       "      <td>1.401</td>\n",
       "      <td>0.632</td>\n",
       "      <td>0</td>\n",
       "      <td>0</td>\n",
       "      <td>4.330</td>\n",
       "    </tr>\n",
       "    <tr>\n",
       "      <th>2</th>\n",
       "      <td>9.23</td>\n",
       "      <td>11.000</td>\n",
       "      <td>0</td>\n",
       "      <td>5.799</td>\n",
       "      <td>2.930</td>\n",
       "      <td>0.486</td>\n",
       "      <td>0</td>\n",
       "      <td>0</td>\n",
       "      <td>7.019</td>\n",
       "    </tr>\n",
       "    <tr>\n",
       "      <th>3</th>\n",
       "      <td>9.23</td>\n",
       "      <td>11.000</td>\n",
       "      <td>0</td>\n",
       "      <td>5.453</td>\n",
       "      <td>2.887</td>\n",
       "      <td>0.495</td>\n",
       "      <td>0</td>\n",
       "      <td>0</td>\n",
       "      <td>6.723</td>\n",
       "    </tr>\n",
       "    <tr>\n",
       "      <th>4</th>\n",
       "      <td>9.23</td>\n",
       "      <td>11.000</td>\n",
       "      <td>0</td>\n",
       "      <td>4.068</td>\n",
       "      <td>2.758</td>\n",
       "      <td>0.695</td>\n",
       "      <td>0</td>\n",
       "      <td>0</td>\n",
       "      <td>5.979</td>\n",
       "    </tr>\n",
       "    <tr>\n",
       "      <th>...</th>\n",
       "      <td>...</td>\n",
       "      <td>...</td>\n",
       "      <td>...</td>\n",
       "      <td>...</td>\n",
       "      <td>...</td>\n",
       "      <td>...</td>\n",
       "      <td>...</td>\n",
       "      <td>...</td>\n",
       "      <td>...</td>\n",
       "    </tr>\n",
       "    <tr>\n",
       "      <th>541</th>\n",
       "      <td>24.06</td>\n",
       "      <td>35.776</td>\n",
       "      <td>2</td>\n",
       "      <td>3.326</td>\n",
       "      <td>2.837</td>\n",
       "      <td>0.849</td>\n",
       "      <td>2</td>\n",
       "      <td>0</td>\n",
       "      <td>4.651</td>\n",
       "    </tr>\n",
       "    <tr>\n",
       "      <th>542</th>\n",
       "      <td>9.23</td>\n",
       "      <td>11.000</td>\n",
       "      <td>0</td>\n",
       "      <td>3.275</td>\n",
       "      <td>2.727</td>\n",
       "      <td>0.874</td>\n",
       "      <td>0</td>\n",
       "      <td>0</td>\n",
       "      <td>3.953</td>\n",
       "    </tr>\n",
       "    <tr>\n",
       "      <th>543</th>\n",
       "      <td>0.00</td>\n",
       "      <td>0.000</td>\n",
       "      <td>0</td>\n",
       "      <td>5.165</td>\n",
       "      <td>3.111</td>\n",
       "      <td>0.732</td>\n",
       "      <td>0</td>\n",
       "      <td>0</td>\n",
       "      <td>6.219</td>\n",
       "    </tr>\n",
       "    <tr>\n",
       "      <th>544</th>\n",
       "      <td>13.14</td>\n",
       "      <td>9.507</td>\n",
       "      <td>0</td>\n",
       "      <td>2.859</td>\n",
       "      <td>2.614</td>\n",
       "      <td>0.827</td>\n",
       "      <td>0</td>\n",
       "      <td>0</td>\n",
       "      <td>4.995</td>\n",
       "    </tr>\n",
       "    <tr>\n",
       "      <th>545</th>\n",
       "      <td>0.00</td>\n",
       "      <td>0.000</td>\n",
       "      <td>0</td>\n",
       "      <td>2.255</td>\n",
       "      <td>1.800</td>\n",
       "      <td>0.917</td>\n",
       "      <td>0</td>\n",
       "      <td>0</td>\n",
       "      <td>2.480</td>\n",
       "    </tr>\n",
       "  </tbody>\n",
       "</table>\n",
       "<p>362 rows × 9 columns</p>\n",
       "</div>"
      ],
      "text/plain": [
       "     TPSA(Tot)   SAacc  H-050  MLOGP  RDCHI  GATS1p  nN  C-040  \\\n",
       "0         0.00   0.000      0  2.419  1.225   0.667   0      0   \n",
       "1         0.00   0.000      0  2.638  1.401   0.632   0      0   \n",
       "2         9.23  11.000      0  5.799  2.930   0.486   0      0   \n",
       "3         9.23  11.000      0  5.453  2.887   0.495   0      0   \n",
       "4         9.23  11.000      0  4.068  2.758   0.695   0      0   \n",
       "..         ...     ...    ...    ...    ...     ...  ..    ...   \n",
       "541      24.06  35.776      2  3.326  2.837   0.849   2      0   \n",
       "542       9.23  11.000      0  3.275  2.727   0.874   0      0   \n",
       "543       0.00   0.000      0  5.165  3.111   0.732   0      0   \n",
       "544      13.14   9.507      0  2.859  2.614   0.827   0      0   \n",
       "545       0.00   0.000      0  2.255  1.800   0.917   0      0   \n",
       "\n",
       "     quantitative response, LC50 [-LOG(mol/L)]  \n",
       "0                                        3.740  \n",
       "1                                        4.330  \n",
       "2                                        7.019  \n",
       "3                                        6.723  \n",
       "4                                        5.979  \n",
       "..                                         ...  \n",
       "541                                      4.651  \n",
       "542                                      3.953  \n",
       "543                                      6.219  \n",
       "544                                      4.995  \n",
       "545                                      2.480  \n",
       "\n",
       "[362 rows x 9 columns]"
      ]
     },
     "execution_count": 45,
     "metadata": {},
     "output_type": "execute_result"
    }
   ],
   "source": [
    "df1"
   ]
  },
  {
   "cell_type": "code",
   "execution_count": 25,
   "id": "70de7c99",
   "metadata": {},
   "outputs": [
    {
     "data": {
      "text/plain": [
       "array([[ 0.   ,  0.   ,  0.   , ...,  1.225,  0.667,  0.   ],\n",
       "       [ 0.   ,  0.   ,  0.   , ...,  1.401,  0.632,  0.   ],\n",
       "       [ 9.23 , 11.   ,  0.   , ...,  2.93 ,  0.486,  0.   ],\n",
       "       ...,\n",
       "       [ 0.   ,  0.   ,  0.   , ...,  3.111,  0.732,  0.   ],\n",
       "       [13.14 ,  9.507,  0.   , ...,  2.614,  0.827,  0.   ],\n",
       "       [ 0.   ,  0.   ,  0.   , ...,  1.8  ,  0.917,  0.   ]])"
      ]
     },
     "execution_count": 25,
     "metadata": {},
     "output_type": "execute_result"
    }
   ],
   "source": [
    "x=df1.iloc[:,0:7].values\n",
    "x"
   ]
  },
  {
   "cell_type": "code",
   "execution_count": 26,
   "id": "e73acea6",
   "metadata": {},
   "outputs": [
    {
     "data": {
      "text/plain": [
       "array([3.74 , 4.33 , 7.019, 6.723, 5.979, 7.337, 4.1  , 3.941, 3.809,\n",
       "       4.34 , 3.93 , 3.533, 4.632, 0.673, 3.323, 2.272, 7.1  , 5.721,\n",
       "       5.102, 3.718, 3.577, 6.458, 2.352, 4.838, 6.858, 6.36 , 4.301,\n",
       "       3.772, 4.179, 3.061, 4.867, 5.373, 3.522, 1.22 , 3.631, 3.725,\n",
       "       6.   , 6.32 , 2.815, 4.72 , 4.333, 3.87 , 3.115, 6.383, 4.34 ,\n",
       "       6.064, 6.36 , 3.226, 4.474, 6.848, 3.7  , 5.291, 6.042, 5.548,\n",
       "       4.608, 6.188, 6.24 , 0.935, 3.25 , 6.102, 6.579, 7.044, 2.838,\n",
       "       3.351, 3.331, 1.73 , 6.442, 8.564, 8.15 , 8.207, 5.036, 7.483,\n",
       "       5.562, 4.437, 7.128, 6.13 , 3.481, 7.037, 2.232, 3.392, 4.858,\n",
       "       6.059, 4.385, 3.298, 2.685, 4.733, 5.47 , 5.9  , 5.551, 6.52 ,\n",
       "       6.883, 5.942, 2.188, 3.008, 5.79 , 6.756, 4.652, 1.888, 7.699,\n",
       "       6.618, 7.671, 7.341, 7.012, 6.176, 5.527, 5.636, 5.372, 5.571,\n",
       "       3.155, 3.594, 5.642, 3.48 , 3.432, 4.011, 3.68 , 6.79 , 4.485,\n",
       "       5.45 , 4.53 , 4.765, 3.524, 4.14 , 4.317, 4.933, 3.71 , 3.618,\n",
       "       4.98 , 4.025, 3.653, 5.168, 3.76 , 4.04 , 5.001, 3.791, 3.863,\n",
       "       4.756, 4.002, 3.28 , 4.927, 4.186, 3.46 , 3.954, 8.271, 3.254,\n",
       "       6.72 , 6.508, 5.3  , 6.21 , 6.777, 6.623, 3.485, 2.642, 3.655,\n",
       "       3.842, 3.339, 3.587, 4.322, 2.49 , 2.937, 3.044, 5.6  , 4.75 ,\n",
       "       5.56 , 7.61 , 5.632, 4.874, 4.495, 4.674, 4.761, 4.864, 8.44 ,\n",
       "       5.64 , 5.878, 4.434, 5.691, 5.42 , 4.713, 4.83 , 5.43 , 4.797,\n",
       "       4.66 , 6.989, 4.742, 6.109, 4.268, 4.138, 4.992, 4.711, 4.31 ,\n",
       "       6.209, 5.626, 8.16 , 6.99 , 6.212, 5.5  , 4.304, 3.84 , 5.641,\n",
       "       5.009, 3.918, 4.787, 4.9  , 2.018, 4.579, 5.754, 4.234, 3.133,\n",
       "       5.16 , 5.43 , 6.409, 5.371, 2.332, 4.018, 7.478, 6.394, 5.001,\n",
       "       5.545, 5.17 , 1.188, 3.788, 3.976, 4.024, 4.403, 5.512, 4.225,\n",
       "       4.072, 4.57 , 6.075, 3.22 , 4.001, 4.01 , 1.82 , 3.002, 1.07 ,\n",
       "       1.53 , 4.852, 4.464, 4.426, 4.016, 4.668, 4.962, 4.61 , 3.85 ,\n",
       "       4.238, 5.38 , 3.589, 2.54 , 4.494, 4.168, 3.339, 5.441, 4.79 ,\n",
       "       4.39 , 3.978, 4.489, 3.718, 5.402, 4.606, 3.591, 4.558, 4.611,\n",
       "       4.62 , 3.615, 4.14 , 3.575, 5.01 , 5.433, 4.909, 4.7  , 5.069,\n",
       "       6.004, 6.281, 5.406, 6.7  , 4.737, 6.027, 4.147, 3.711, 4.851,\n",
       "       3.53 , 3.619, 5.597, 3.357, 1.815, 2.421, 5.054, 3.89 , 3.792,\n",
       "       5.993, 1.22 , 2.614, 4.762, 2.829, 5.37 , 4.819, 4.039, 5.47 ,\n",
       "       5.299, 3.52 , 4.862, 7.676, 4.943, 7.012, 5.548, 5.976, 3.118,\n",
       "       5.46 , 3.601, 3.63 , 5.762, 6.56 , 8.113, 4.502, 5.551, 4.91 ,\n",
       "       3.825, 5.783, 6.119, 2.506, 8.028, 7.087, 4.823, 6.19 , 4.3  ,\n",
       "       4.01 , 4.038, 3.002, 5.312, 5.513, 3.492, 2.608, 2.778, 2.659,\n",
       "       5.389, 5.559, 5.76 , 5.61 , 5.55 , 4.251, 7.509, 6.67 , 5.02 ,\n",
       "       5.422, 5.437, 6.108, 5.19 , 4.535, 3.47 , 4.462, 2.579, 2.959,\n",
       "       6.11 , 5.461, 3.531, 5.922, 3.64 , 6.173, 4.651, 3.953, 6.219,\n",
       "       4.995, 2.48 ])"
      ]
     },
     "execution_count": 26,
     "metadata": {},
     "output_type": "execute_result"
    }
   ],
   "source": [
    "y=df1.iloc[:,8].values\n",
    "y"
   ]
  },
  {
   "cell_type": "code",
   "execution_count": 27,
   "id": "90fd25bf",
   "metadata": {},
   "outputs": [],
   "source": [
    "from sklearn.model_selection import train_test_split\n",
    "x_train,x_test,y_train,y_test=train_test_split(x,y,test_size=0.25,random_state=0)\n",
    "from sklearn.preprocessing import StandardScaler\n",
    "sc=StandardScaler()\n",
    "x_train=sc.fit_transform(x_train)\n",
    "x_test=sc.transform(x_test)"
   ]
  },
  {
   "cell_type": "code",
   "execution_count": 28,
   "id": "f26cd386",
   "metadata": {},
   "outputs": [
    {
     "data": {
      "text/plain": [
       "array([[ 0.48344807, -0.38158075,  0.64898576, ..., -1.14848801,\n",
       "         0.26551776,  1.16827723],\n",
       "       [ 0.91052282,  0.80434242, -0.72503878, ...,  0.72611106,\n",
       "         0.34279164, -0.66710323],\n",
       "       [-0.36725221,  0.25300845,  0.64898576, ..., -0.67900286,\n",
       "        -0.00627316, -0.66710323],\n",
       "       ...,\n",
       "       [-1.00159304, -1.00400708, -0.72503878, ..., -0.47349869,\n",
       "         0.52931482, -0.66710323],\n",
       "       [-0.36725221,  0.25300845,  0.64898576, ..., -0.53030472,\n",
       "         1.75503855, -0.66710323],\n",
       "       [ 0.72457912,  0.81444378, -0.72503878, ...,  1.23736535,\n",
       "        -0.92823057,  0.250587  ]])"
      ]
     },
     "execution_count": 28,
     "metadata": {},
     "output_type": "execute_result"
    }
   ],
   "source": [
    "x_train"
   ]
  },
  {
   "cell_type": "code",
   "execution_count": 29,
   "id": "4f9ae74a",
   "metadata": {},
   "outputs": [
    {
     "data": {
      "text/plain": [
       "array([[ 0.30189427,  0.6828905 ,  0.64898576,  0.37680234,  1.63333681,\n",
       "         0.16692694,  1.16827723],\n",
       "       [-0.58956938, -0.72402567, -0.72503878,  0.76828133,  1.13711941,\n",
       "        -0.44859955, -0.66710323],\n",
       "       [-0.36725221,  0.25300845,  0.64898576,  1.7042151 ,  1.22734075,\n",
       "         0.78778265, -0.66710323],\n",
       "       [ 0.26708862,  1.51005343,  2.0230103 ,  0.46441576,  0.86478461,\n",
       "        -0.09154089, -0.66710323],\n",
       "       [ 0.16800226,  0.99352939,  0.64898576,  0.73560013,  1.34095282,\n",
       "         0.5266502 , -0.66710323],\n",
       "       [-0.18569841, -0.03518952,  2.0230103 , -1.69393375, -1.63802235,\n",
       "         1.05424433,  0.250587  ],\n",
       "       [ 0.43515915,  0.49049347, -0.72503878, -0.2761262 , -0.32647131,\n",
       "        -0.02492547,  0.250587  ],\n",
       "       [-0.42275311, -0.35610647, -0.72503878, -0.81501823, -0.27467757,\n",
       "         0.715838  , -0.66710323],\n",
       "       [ 0.10372156,  0.28876078,  2.0230103 , -0.96799403, -0.47349869,\n",
       "         0.34545626,  0.250587  ],\n",
       "       [-1.00159304, -1.00400708, -0.72503878,  0.43729732,  0.00601106,\n",
       "         0.03103148, -0.66710323],\n",
       "       [-1.00159304, -1.00400708, -0.72503878,  2.66448594,  0.84640618,\n",
       "        -1.28528922, -0.66710323],\n",
       "       [ 1.10994979,  1.77981568,  2.0230103 , -2.04091069, -1.18691562,\n",
       "         1.94689096, -0.66710323],\n",
       "       [-1.00159304, -1.00400708, -0.72503878,  2.33002521,  0.74114795,\n",
       "        -1.12541221, -0.66710323],\n",
       "       [ 1.71732408, -0.20340808, -0.72503878, -0.40198356,  0.13298925,\n",
       "         0.36410858, -0.66710323],\n",
       "       [-1.00159304, -1.00400708, -0.72503878,  0.21131034, -0.67900286,\n",
       "         0.29749316, -0.66710323],\n",
       "       [-1.00159304, -1.00400708, -0.72503878, -0.12454109, -1.40244439,\n",
       "         1.4619307 , -0.66710323],\n",
       "       [-0.62437503, -0.47358263,  0.64898576, -0.30950274, -0.30140982,\n",
       "         0.44138247,  0.250587  ],\n",
       "       [-1.00159304, -1.00400708, -0.72503878,  1.08813982, -0.53030472,\n",
       "         1.7950078 , -0.66710323],\n",
       "       [-1.00159304, -1.00400708, -0.72503878,  1.23624822,  0.4855208 ,\n",
       "        -0.60847655, -0.66710323],\n",
       "       [-0.60869681, -0.68005678, -0.72503878,  1.26128062,  0.91490758,\n",
       "        -1.08810758, -0.66710323],\n",
       "       [-0.1160871 , -1.00400708, -0.72503878,  0.14803398, -0.23123767,\n",
       "        -0.78700588, -0.66710323],\n",
       "       [ 0.33168289,  0.30101199, -0.72503878, -0.81015082, -0.1226379 ,\n",
       "         0.55063175, -0.66710323],\n",
       "       [ 1.97350622,  2.07699591, -0.72503878,  0.99287762,  1.17220549,\n",
       "         0.96631197,  2.08596746],\n",
       "       [-0.89999816, -0.9120052 , -0.72503878,  1.47614209,  1.60159226,\n",
       "         0.26818237,  0.250587  ],\n",
       "       [-0.18569841, -0.03518952,  2.0230103 , -0.78720445, -0.76421191,\n",
       "        -0.36333181,  0.250587  ],\n",
       "       [ 2.74017123,  2.9697146 , -0.72503878, -1.63343878,  0.45544702,\n",
       "         2.76492831,  1.16827723],\n",
       "       [ 2.61725398,  1.1020233 , -0.72503878, -0.2886424 ,  0.98340897,\n",
       "         0.91568426,  0.250587  ],\n",
       "       [ 1.06949998,  1.747509  ,  0.64898576, -0.89706889, -0.32647131,\n",
       "        -0.44593493,  0.250587  ],\n",
       "       [-1.00159304, -1.00400708, -0.72503878,  0.90874093,  0.01603565,\n",
       "        -0.72838431, -0.66710323],\n",
       "       [ 0.43515915,  0.49049347, -0.72503878,  0.32812822, -0.28971446,\n",
       "        -1.26130767,  0.250587  ],\n",
       "       [-0.36725221,  0.25300845,  0.64898576,  0.06320195, -0.56706156,\n",
       "        -1.2026861 , -0.66710323],\n",
       "       [ 0.43515915,  0.49049347, -0.72503878,  0.14177588, -0.28971446,\n",
       "        -0.6004827 ,  0.250587  ],\n",
       "       [-0.42275311, -0.35610647, -0.72503878, -0.95686852, -0.27968987,\n",
       "         1.66444158, -0.66710323],\n",
       "       [ 0.2002994 ,  0.59088862,  0.64898576, -0.17182452,  0.49721616,\n",
       "         0.91035502,  0.250587  ],\n",
       "       [ 0.4285743 , -0.17148425, -0.72503878, -0.46386923, -0.03408732,\n",
       "         0.86239192,  0.250587  ],\n",
       "       [-0.71217307, -0.68005678, -0.72503878,  0.05902988,  0.01102335,\n",
       "         0.56928407, -0.66710323],\n",
       "       [ 0.21503693, -1.00400708,  0.64898576, -0.88594338, -1.63802235,\n",
       "         0.69452106, -0.66710323],\n",
       "       [-0.24715703,  0.04959711,  2.0230103 ,  0.47832265,  0.87313843,\n",
       "        -0.27273484,  1.16827723],\n",
       "       [ 2.22122211, -0.40726117, -0.72503878,  0.47554127,  0.98006744,\n",
       "        -0.20611942, -0.66710323],\n",
       "       [-1.00159304, -1.00400708, -0.72503878,  0.91778041,  0.29004122,\n",
       "        -0.39797183, -0.66710323],\n",
       "       [ 1.72892597,  2.2828516 ,  0.64898576, -0.61823572,  2.25820317,\n",
       "         0.35611473,  2.08596746],\n",
       "       [-1.00159304, -1.00400708, -0.72503878,  0.64242396, -0.32647131,\n",
       "         0.52931482, -0.66710323],\n",
       "       [ 0.4285743 , -0.17148425, -0.72503878,  0.31561202,  0.83471082,\n",
       "        -0.00893777,  0.250587  ],\n",
       "       [ 2.61725398,  1.1020233 , -0.72503878, -0.50002715,  0.67765885,\n",
       "         0.90502579,  0.250587  ],\n",
       "       [-1.00159304, -0.56343467, -0.72503878, -0.42562528, -1.75330518,\n",
       "        -0.61114117, -0.66710323],\n",
       "       [ 2.80068917, -0.81997386, -0.72503878,  0.16055018,  1.30419598,\n",
       "        -0.23809482,  1.16827723],\n",
       "       [ 0.48971936,  0.91480947,  0.64898576, -0.81988564,  0.67765885,\n",
       "         0.83574575,  0.250587  ],\n",
       "       [ 0.7590712 ,  0.05684181,  2.0230103 ,  0.32951891,  1.14046094,\n",
       "        -0.66709812,  1.16827723],\n",
       "       [-0.36725221,  0.25300845,  0.64898576, -0.1231504 , -0.56706156,\n",
       "        -0.57117192, -0.66710323],\n",
       "       [ 0.96539659,  1.53982741,  2.0230103 , -0.25387517,  0.27333356,\n",
       "         0.80643497,  3.92134792],\n",
       "       [ 0.43515915,  0.49049347, -0.72503878, -0.08977386, -0.34484973,\n",
       "        -0.89092593,  0.250587  ],\n",
       "       [ 2.61725398,  1.1020233 , -0.72503878, -0.72045137,  0.62252359,\n",
       "         0.89703194,  0.250587  ],\n",
       "       [-0.59740849, -0.50965892, -0.72503878, -0.76843015, -0.43172955,\n",
       "         0.67053951,  0.250587  ],\n",
       "       [ 0.06891591,  0.47703481, -0.72503878, -0.8504808 , -0.40165576,\n",
       "         0.41740091, -0.66710323],\n",
       "       [ 2.47771781, -0.59633035, -0.72503878, -0.91584319,  0.14635537,\n",
       "         0.0976469 , -0.66710323],\n",
       "       [ 0.70952802,  0.20426865, -0.72503878,  0.76758598,  1.37269737,\n",
       "         2.18937109, -0.66710323],\n",
       "       [-0.71217307, -0.68005678, -0.72503878, -1.27811771, -1.34563836,\n",
       "         2.80223295, -0.66710323],\n",
       "       [-0.18569841, -0.03518952,  2.0230103 ,  0.06320195, -0.56706156,\n",
       "        -1.30394154,  0.250587  ],\n",
       "       [ 0.77913933,  1.23875977,  0.64898576, -1.09454674,  0.67765885,\n",
       "         1.05157971,  0.250587  ],\n",
       "       [ 0.26708862,  1.51005343,  2.0230103 ,  0.69318412,  1.34596512,\n",
       "         0.2095608 , -0.66710323],\n",
       "       [ 0.70952802,  0.20426865, -0.72503878,  0.41435095,  0.98006744,\n",
       "         2.75160523, -0.66710323],\n",
       "       [-1.00159304, -1.00400708, -0.72503878, -0.39711615, -0.85944555,\n",
       "         0.7957765 , -0.66710323],\n",
       "       [ 0.28809744,  0.79733331,  2.0230103 , -2.59579565, -0.98308221,\n",
       "         1.36333988,  1.16827723],\n",
       "       [ 0.06891591,  0.47703481, -0.72503878, -1.78154717, -0.79261493,\n",
       "         1.44327838, -0.66710323],\n",
       "       [-0.36725221,  0.25300845,  0.64898576,  0.88370852, -0.32480054,\n",
       "        -1.78623718, -0.66710323],\n",
       "       [ 1.97350622,  3.39871315, -0.72503878,  1.0909212 ,  1.22399922,\n",
       "         0.88370885,  2.08596746],\n",
       "       [-1.00159304, -1.00400708, -0.72503878,  0.21131034, -0.65227061,\n",
       "         0.29749316, -0.66710323],\n",
       "       [-1.00159304, -1.00400708, -0.72503878, -0.02371612, -1.47762885,\n",
       "        -1.18936302, -0.66710323],\n",
       "       [-0.26565733,  0.34503978,  0.64898576, -1.89071626, -1.2320263 ,\n",
       "         2.79690372,  0.250587  ],\n",
       "       [-0.36725221,  0.25300845,  0.64898576, -1.27811771, -1.52608105,\n",
       "         1.98952483, -0.66710323],\n",
       "       [-1.00159304, -1.00400708, -0.72503878,  1.59087394, -0.40165576,\n",
       "        -1.26130767, -0.66710323],\n",
       "       [ 1.75871459,  1.53982741,  2.0230103 ,  0.38027906,  1.02851964,\n",
       "         0.47602248,  3.92134792],\n",
       "       [-1.00159304, -1.00400708, -0.72503878,  0.58401502, -0.67900286,\n",
       "        -1.00283984, -0.66710323],\n",
       "       [ 0.7590712 ,  0.05684181,  2.0230103 , -0.48194819,  0.24493055,\n",
       "        -0.38997798,  1.16827723],\n",
       "       [ 0.26708862,  1.51005343,  2.0230103 , -1.3434801 , -1.04490054,\n",
       "         1.71240468, -0.66710323],\n",
       "       [ 3.30866353,  3.47949458, -0.72503878, -0.19407554,  0.35520108,\n",
       "        -0.33668564,  2.08596746],\n",
       "       [ 0.80234309,  2.25057437,  2.0230103 ,  0.46719713,  1.59156767,\n",
       "         0.57994254, -0.66710323],\n",
       "       [ 0.20782495, -0.81997386, -0.72503878, -1.42414007, -1.02652212,\n",
       "         0.63589949,  1.16827723],\n",
       "       [-1.00159304, -1.00400708, -0.72503878,  0.63964258, -0.56204927,\n",
       "         0.1296223 , -0.66710323],\n",
       "       [ 0.4285743 , -0.17148425, -0.72503878,  0.25998446,  0.40532405,\n",
       "        -0.13417476,  0.250587  ],\n",
       "       [-1.00159304,  0.31771016, -0.72503878, -0.15235487, -1.34563836,\n",
       "        -0.58715962, -0.66710323],\n",
       "       [-1.00159304, -1.00400708, -0.72503878,  0.06667867, -0.76421191,\n",
       "        -0.32069794, -0.66710323],\n",
       "       [ 0.2002994 ,  0.59088862,  0.64898576, -0.62657986,  0.26330897,\n",
       "        -0.83496898,  0.250587  ],\n",
       "       [-0.59740849, -0.50965892, -0.72503878,  0.28710289,  0.68935421,\n",
       "        -0.40330106,  0.250587  ],\n",
       "       [-1.00159304, -1.00400708, -0.72503878, -0.02371612, -1.40244439,\n",
       "        -1.18936302, -0.66710323],\n",
       "       [-1.00159304, -1.00400708, -0.72503878,  2.33002521,  0.69937881,\n",
       "        -1.12541221, -0.66710323],\n",
       "       [-1.00159304, -1.00400708, -0.72503878,  2.02546429,  1.5314201 ,\n",
       "        -0.69907352, -0.66710323],\n",
       "       [-0.71217307, -0.68005678, -0.72503878,  1.07910035, -0.14937015,\n",
       "        -0.98951676, -0.66710323],\n",
       "       [-0.07783224,  0.57695875,  0.64898576,  0.06806936, -0.21285924,\n",
       "        -0.88293208, -0.66710323],\n",
       "       [-0.62437503, -0.47358263,  0.64898576, -0.73088154, -1.10337734,\n",
       "         2.0801218 ,  0.250587  ],\n",
       "       [-1.00159304, -1.00400708, -0.72503878,  0.72238859,  0.04945096,\n",
       "        -0.22210712, -0.66710323]])"
      ]
     },
     "execution_count": 29,
     "metadata": {},
     "output_type": "execute_result"
    }
   ],
   "source": [
    "x_test"
   ]
  },
  {
   "cell_type": "code",
   "execution_count": 30,
   "id": "86b815eb",
   "metadata": {},
   "outputs": [],
   "source": [
    "import sklearn\n",
    "from sklearn.linear_model import LinearRegression\n",
    "from sklearn.ensemble import GradientBoostingRegressor\n",
    "from sklearn.model_selection import train_test_split\n",
    "from sklearn.model_selection import cross_val_score\n",
    "from sklearn.metrics import accuracy_score\n",
    "from sklearn import metrics\n",
    "import warnings\n",
    "warnings.filterwarnings(\"ignore\")"
   ]
  },
  {
   "cell_type": "code",
   "execution_count": 31,
   "id": "12985bfe",
   "metadata": {},
   "outputs": [
    {
     "data": {
      "image/png": "[encoded data removed]",
      "text/plain": [
       "<Figure size 576x432 with 1 Axes>"
      ]
     },
     "metadata": {
      "needs_background": "light"
     },
     "output_type": "display_data"
    },
    {
     "data": {
      "text/plain": [
       "<AxesSubplot:xlabel='quantitative response, LC50 [-LOG(mol/L)]', ylabel='Density'>"
      ]
     },
     "execution_count": 31,
     "metadata": {},
     "output_type": "execute_result"
    },
    {
     "data": {
      "image/png": "[encoded data removed]",
      "text/plain": [
       "<Figure size 576x432 with 1 Axes>"
      ]
     },
     "metadata": {
      "needs_background": "light"
     },
     "output_type": "display_data"
    }
   ],
   "source": [
    "\n",
    "import scipy.stats as stats\n",
    "\n",
    "import matplotlib\n",
    "import matplotlib.pyplot as plt\n",
    "import seaborn as sns\n",
    "\n",
    "plt.figure(figsize=(8, 6));\n",
    "plt.hist(df1['quantitative response, LC50 [-LOG(mol/L)]']);\n",
    "plt.title('count histogram');\n",
    "plt.xlabel('y');\n",
    "plt.ylabel('count');\n",
    "plt.show();\n",
    "\n",
    "plt.figure(figsize=(8, 6));\n",
    "sns.distplot(df1['quantitative response, LC50 [-LOG(mol/L)]'])"
   ]
  },
  {
   "cell_type": "code",
   "execution_count": 32,
   "id": "625f57a8",
   "metadata": {},
   "outputs": [
    {
     "data": {
      "image/png": "[encoded data removed]",
      "text/plain": [
       "<Figure size 864x648 with 2 Axes>"
      ]
     },
     "metadata": {
      "needs_background": "light"
     },
     "output_type": "display_data"
    }
   ],
   "source": [
    "plt.figure(figsize=(12, 9));\n",
    "correlation_matrix = df1.corr().round(2);\n",
    "sns.heatmap(correlation_matrix, cmap=\"YlGnBu\", annot=True);"
   ]
  },
  {
   "cell_type": "code",
   "execution_count": 36,
   "id": "66a268a0",
   "metadata": {},
   "outputs": [
    {
     "name": "stdout",
     "output_type": "stream",
     "text": [
      "The model performance for training set\n",
      "--------------------------------------\n",
      "RMSE is 0.999693467134016\n",
      "R2 score is 0.49\n"
     ]
    }
   ],
   "source": [
    "reg_1 = LinearRegression()\n",
    "reg_1.fit(x_train, y_train)\n",
    "\n",
    "y_train_predict_1 = reg_1.predict(x_train)\n",
    "rmse = (np.sqrt(metrics.mean_squared_error(y_train, y_train_predict_1)))\n",
    "r2 = round(reg_1.score(x_train, y_train),2)\n",
    "\n",
    "print(f\"The model performance for training set\")\n",
    "print(f\"--------------------------------------\")\n",
    "print(f'RMSE is {rmse}')\n",
    "print(f'R2 score is {r2}') "
   ]
  },
  {
   "cell_type": "code",
   "execution_count": 38,
   "id": "e2a81e39",
   "metadata": {},
   "outputs": [
    {
     "name": "stdout",
     "output_type": "stream",
     "text": [
      "The model performance for training set\n",
      "--------------------------------------\n",
      "Root Mean Squared Error: 1.1332402218178625\n",
      "R^2: 0.49\n"
     ]
    }
   ],
   "source": [
    "y_pred_1 = reg_1.predict(x_test)\n",
    "rmse = (np.sqrt(metrics.mean_squared_error(y_test, y_pred_1)))\n",
    "r2 = round(reg_1.score(x_test, y_test),2)\n",
    "\n",
    "print(f\"The model performance for training set\")\n",
    "print(f\"--------------------------------------\")\n",
    "print(f\"Root Mean Squared Error: {rmse}\")\n",
    "print(f\"R^2: {r2}\")"
   ]
  },
  {
   "cell_type": "code",
   "execution_count": 39,
   "id": "cbe54e3d",
   "metadata": {},
   "outputs": [
    {
     "name": "stdout",
     "output_type": "stream",
     "text": [
      "Coefficient of determination: 0.4948\n"
     ]
    }
   ],
   "source": [
    "print(f'Coefficient of determination: {metrics.r2_score(y_test, y_pred_1) :.4f}')"
   ]
  },
  {
   "cell_type": "code",
   "execution_count": 49,
   "id": "a2a4cad2",
   "metadata": {},
   "outputs": [
    {
     "data": {
      "image/png": "[encoded data removed]",
      "text/plain": [
       "<Figure size 576x360 with 1 Axes>"
      ]
     },
     "metadata": {
      "needs_background": "light"
     },
     "output_type": "display_data"
    }
   ],
   "source": [
    "plt.figure(figsize=(8, 5));\n",
    "plt.scatter(y_test, y_pred_1);\n",
    "plt.plot([0, 10], [0, 10], '--k');\n",
    "plt.axis('tight');\n",
    "plt.xlabel(\"Actual aquatic toxicity towards Daphnia Magna\");\n",
    "plt.ylabel(\"Predicted aquatic toxicity towards Daphnia Magna\");\n",
    "#plt.xticks(range(0, int(max(y_test)),2));\n",
    "#plt.yticks(range(0, int(max(y_test)),2));\n",
    "plt.title(\"Actual aquatic toxicity towards Daphnia Magna vs Predicted aquatic toxicity towards Daphnia Magna\");\n",
    "plt.tight_layout();"
   ]
  },
  {
   "cell_type": "code",
   "execution_count": 42,
   "id": "ee040588",
   "metadata": {},
   "outputs": [
    {
     "name": "stdout",
     "output_type": "stream",
     "text": [
      "RMS: 1.1332402218178625 \n"
     ]
    }
   ],
   "source": [
    "print(\"RMS: %r \" % np.sqrt(np.mean((y_test - y_pred_1) ** 2)))"
   ]
  },
  {
   "cell_type": "code",
   "execution_count": 47,
   "id": "06ed218b",
   "metadata": {},
   "outputs": [
    {
     "data": {
      "text/html": [
       "<div>\n",
       "<style scoped>\n",
       "    .dataframe tbody tr th:only-of-type {\n",
       "        vertical-align: middle;\n",
       "    }\n",
       "\n",
       "    .dataframe tbody tr th {\n",
       "        vertical-align: top;\n",
       "    }\n",
       "\n",
       "    .dataframe thead th {\n",
       "        text-align: right;\n",
       "    }\n",
       "</style>\n",
       "<table border=\"1\" class=\"dataframe\">\n",
       "  <thead>\n",
       "    <tr style=\"text-align: right;\">\n",
       "      <th></th>\n",
       "      <th>Actual</th>\n",
       "      <th>Predicted</th>\n",
       "    </tr>\n",
       "  </thead>\n",
       "  <tbody>\n",
       "    <tr>\n",
       "      <th>0</th>\n",
       "      <td>4.992</td>\n",
       "      <td>5.277079</td>\n",
       "    </tr>\n",
       "    <tr>\n",
       "      <th>1</th>\n",
       "      <td>4.737</td>\n",
       "      <td>5.567333</td>\n",
       "    </tr>\n",
       "    <tr>\n",
       "      <th>2</th>\n",
       "      <td>6.064</td>\n",
       "      <td>6.212304</td>\n",
       "    </tr>\n",
       "    <tr>\n",
       "      <th>3</th>\n",
       "      <td>4.301</td>\n",
       "      <td>5.461121</td>\n",
       "    </tr>\n",
       "    <tr>\n",
       "      <th>4</th>\n",
       "      <td>5.170</td>\n",
       "      <td>5.572079</td>\n",
       "    </tr>\n",
       "    <tr>\n",
       "      <th>5</th>\n",
       "      <td>3.133</td>\n",
       "      <td>3.183786</td>\n",
       "    </tr>\n",
       "    <tr>\n",
       "      <th>6</th>\n",
       "      <td>4.010</td>\n",
       "      <td>4.260516</td>\n",
       "    </tr>\n",
       "    <tr>\n",
       "      <th>7</th>\n",
       "      <td>2.937</td>\n",
       "      <td>3.773807</td>\n",
       "    </tr>\n",
       "    <tr>\n",
       "      <th>8</th>\n",
       "      <td>4.011</td>\n",
       "      <td>4.205781</td>\n",
       "    </tr>\n",
       "    <tr>\n",
       "      <th>9</th>\n",
       "      <td>4.100</td>\n",
       "      <td>4.768373</td>\n",
       "    </tr>\n",
       "  </tbody>\n",
       "</table>\n",
       "</div>"
      ],
      "text/plain": [
       "   Actual  Predicted\n",
       "0   4.992   5.277079\n",
       "1   4.737   5.567333\n",
       "2   6.064   6.212304\n",
       "3   4.301   5.461121\n",
       "4   5.170   5.572079\n",
       "5   3.133   3.183786\n",
       "6   4.010   4.260516\n",
       "7   2.937   3.773807\n",
       "8   4.011   4.205781\n",
       "9   4.100   4.768373"
      ]
     },
     "execution_count": 47,
     "metadata": {},
     "output_type": "execute_result"
    }
   ],
   "source": [
    "df2 = pd.DataFrame({'Actual': y_test, 'Predicted': y_pred_1})\n",
    "df3 = df2.head(10)\n",
    "df3"
   ]
  },
  {
   "cell_type": "code",
   "execution_count": 50,
   "id": "d7ad3256",
   "metadata": {},
   "outputs": [
    {
     "data": {
      "image/png": "[encoded data removed]",
      "text/plain": [
       "<Figure size 432x288 with 1 Axes>"
      ]
     },
     "metadata": {
      "needs_background": "light"
     },
     "output_type": "display_data"
    }
   ],
   "source": [
    "df3.plot(kind='bar');"
   ]
  },
  {
   "cell_type": "code",
   "execution_count": 51,
   "id": "06ed4d7c",
   "metadata": {},
   "outputs": [],
   "source": [
    "# import warnings filter\n",
    "from warnings import simplefilter\n",
    "\n",
    "# ignore all future warnings\n",
    "simplefilter(action='ignore', category=FutureWarning)\n",
    "\n",
    "# importing modules for validation\n",
    "from sklearn.model_selection import KFold\n",
    "from sklearn.model_selection import cross_val_score\n",
    "\n",
    "# importing different regression models \n",
    "from sklearn.linear_model import LinearRegression\n",
    "from sklearn.linear_model import Lasso\n",
    "from sklearn.linear_model import ElasticNet\n",
    "from sklearn.linear_model import Ridge\n",
    "from sklearn.linear_model import BayesianRidge\n",
    "from sklearn.tree import DecisionTreeRegressor\n",
    "from sklearn.neighbors import KNeighborsRegressor\n",
    "from sklearn.svm import SVR\n",
    "from sklearn.ensemble import AdaBoostRegressor\n",
    "from sklearn.ensemble import GradientBoostingRegressor\n",
    "from sklearn.ensemble import RandomForestRegressor\n",
    "\n",
    "# user variables to tune\n",
    "folds   = 10\n",
    "metric  = \"neg_mean_squared_error\"\n",
    "\n",
    "# hold different regression models in a single dictionary\n",
    "models = dict()\n",
    "models[\"Linear\"]        = LinearRegression()\n",
    "models[\"Lasso\"]         = Lasso()\n",
    "models[\"ElasticNet\"]    = ElasticNet()\n",
    "models[\"Ridge\"]         = Ridge()\n",
    "models[\"BayesianRidge\"] = BayesianRidge()\n",
    "models[\"KNN\"]           = KNeighborsRegressor()\n",
    "models[\"DecisionTree\"]  = DecisionTreeRegressor()\n",
    "models[\"SVR\"]           = SVR()\n",
    "models[\"AdaBoost\"]      = AdaBoostRegressor()\n",
    "models[\"GradientBoost\"] = GradientBoostingRegressor()\n",
    "models[\"RandomForest\"]  = RandomForestRegressor()"
   ]
  },
  {
   "cell_type": "code",
   "execution_count": 52,
   "id": "247a9f28",
   "metadata": {},
   "outputs": [
    {
     "name": "stdout",
     "output_type": "stream",
     "text": [
      "              Linear: -1.07, 0.37\n",
      "               Lasso: -1.96, 0.58\n",
      "          ElasticNet: -1.69, 0.51\n",
      "               Ridge: -1.07, 0.37\n",
      "       BayesianRidge: -1.07, 0.37\n",
      "                 KNN: -1.10, 0.48\n",
      "        DecisionTree: -1.70, 0.62\n",
      "                 SVR: -1.02, 0.41\n",
      "            AdaBoost: -1.11, 0.40\n",
      "       GradientBoost: -1.12, 0.40\n",
      "        RandomForest: -1.09, 0.41\n"
     ]
    },
    {
     "data": {
      "image/png": "[encoded data removed]",
      "text/plain": [
       "<Figure size 432x288 with 1 Axes>"
      ]
     },
     "metadata": {
      "needs_background": "light"
     },
     "output_type": "display_data"
    }
   ],
   "source": [
    "# 10-fold cross validation for each model\n",
    "model_results = list()\n",
    "model_names   = list()\n",
    "for model_name in models:\n",
    "    model   = models[model_name]\n",
    "    k_fold  = KFold(n_splits=folds, random_state=None)\n",
    "    results = cross_val_score(model, x_train, y_train, cv=k_fold, scoring=metric)\n",
    "    \n",
    "    model_results.append(results)\n",
    "    model_names.append(model_name)\n",
    "    print(\"{:>20}: {:.2f}, {:.2f}\".format(model_name, round(results.mean(), 3), \n",
    "                                  round(results.std(), 3)))\n",
    "\n",
    "# box-whisker plot to compare regression models\n",
    "figure = plt.figure();\n",
    "figure.suptitle('Regression models comparison');\n",
    "ax = figure.add_subplot(111);\n",
    "plt.boxplot(model_results);\n",
    "ax.set_xticklabels(model_names, rotation = 45, ha=\"right\");\n",
    "ax.set_ylabel(\"Mean Squared Error (MSE)\");\n",
    "plt.margins(0.05, 0.1);\n",
    "#plt.savefig(\"model_mse_scores.png\")\n",
    "plt.show();\n",
    "#plt.clf()\n",
    "#plt.close()"
   ]
  },
  {
   "cell_type": "markdown",
   "id": "f4ccc34a",
   "metadata": {},
   "source": [
    "\n",
    "We have found that Gradiant Boost method has the least rmse so we are going to use that model. Lasso is very bad. "
   ]
  },
  {
   "cell_type": "code",
   "execution_count": 54,
   "id": "99501ca5",
   "metadata": {},
   "outputs": [],
   "source": [
    "gbr = GradientBoostingRegressor()\n",
    "gbr.fit(x_train, y_train)\n",
    "\n",
    "gbr_predicted = gbr.predict(x_test)\n",
    "gbr_expected = y_test"
   ]
  },
  {
   "cell_type": "code",
   "execution_count": 55,
   "id": "27985a5e",
   "metadata": {},
   "outputs": [
    {
     "name": "stdout",
     "output_type": "stream",
     "text": [
      "RMS: 1.0793684373190648 \n"
     ]
    }
   ],
   "source": [
    "print(\"RMS: %r \" % np.sqrt(np.mean((gbr_predicted - gbr_expected) ** 2)))"
   ]
  },
  {
   "cell_type": "code",
   "execution_count": 56,
   "id": "935f3a43",
   "metadata": {},
   "outputs": [
    {
     "name": "stdout",
     "output_type": "stream",
     "text": [
      "Coeff of determination: 0.5417\n"
     ]
    }
   ],
   "source": [
    "print('Coeff of determination: {:.4f}'.format(metrics.r2_score(gbr_expected, gbr_predicted)))"
   ]
  },
  {
   "cell_type": "code",
   "execution_count": 57,
   "id": "979ab389",
   "metadata": {},
   "outputs": [
    {
     "data": {
      "image/png": "[encoded data removed]",
      "text/plain": [
       "<Figure size 432x288 with 1 Axes>"
      ]
     },
     "metadata": {
      "needs_background": "light"
     },
     "output_type": "display_data"
    }
   ],
   "source": [
    "sns.distplot(gbr_expected - gbr_predicted);"
   ]
  },
  {
   "cell_type": "code",
   "execution_count": 58,
   "id": "802e7826",
   "metadata": {},
   "outputs": [
    {
     "data": {
      "image/png": "[encoded data removed]",
      "text/plain": [
       "<Figure size 576x360 with 1 Axes>"
      ]
     },
     "metadata": {
      "needs_background": "light"
     },
     "output_type": "display_data"
    }
   ],
   "source": [
    "plt.figure(figsize=(8, 5));\n",
    "plt.scatter(gbr_expected, gbr_predicted)\n",
    "plt.plot([0, 10], [0, 10], '--k');\n",
    "plt.axis('tight');\n",
    "plt.xlabel('True aquatic toxicity');\n",
    "plt.ylabel('Predicted aquatic toxicity');\n",
    "plt.tight_layout();"
   ]
  },
  {
   "cell_type": "code",
   "execution_count": 62,
   "id": "9f929c47",
   "metadata": {},
   "outputs": [
    {
     "data": {
      "image/png": "[encoded data removed]",
      "text/plain": [
       "<Figure size 432x288 with 1 Axes>"
      ]
     },
     "metadata": {
      "needs_background": "light"
     },
     "output_type": "display_data"
    }
   ],
   "source": [
    "feature_importance = gbr.feature_importances_\n",
    "feature_importance = 100.0 * (feature_importance / feature_importance.max())\n",
    "\n",
    "sorted_idx = np.argsort(feature_importance)\n",
    "pos        = np.arange(sorted_idx.shape[0]) + .5\n",
    "\n",
    "plt.barh(pos, feature_importance[sorted_idx], align='center');\n",
    "plt.xlabel('Relative Importance');\n",
    "plt.title('Variable Importance');"
   ]
  },
  {
   "cell_type": "code",
   "execution_count": 63,
   "id": "3cadea28",
   "metadata": {},
   "outputs": [
    {
     "data": {
      "image/png": "[encoded data removed]",
      "text/plain": [
       "<Figure size 864x432 with 1 Axes>"
      ]
     },
     "metadata": {
      "needs_background": "light"
     },
     "output_type": "display_data"
    }
   ],
   "source": [
    "n_estimators = 100\n",
    "# compute test set deviance\n",
    "test_score = np.zeros((n_estimators,), dtype=np.float64)\n",
    "\n",
    "for i, y_pred in enumerate(gbr.staged_predict(x_test)):\n",
    "    test_score[i] = gbr.loss_(gbr_expected, y_pred_1)\n",
    "\n",
    "plt.figure(figsize=(12, 6));\n",
    "plt.subplot(1, 1, 1);\n",
    "plt.title('Deviance');\n",
    "plt.plot(np.arange(n_estimators) + 1, \n",
    "         gbr.train_score_, 'b-',\n",
    "         label='Training Set Deviance');\n",
    "plt.plot(np.arange(n_estimators) + 1, \n",
    "         test_score, 'r-',\n",
    "         label='Test Set Deviance');\n",
    "plt.legend(loc='upper right');\n",
    "plt.xlabel('Boosting Iterations');\n",
    "plt.ylabel('Deviance');"
   ]
  },
  {
   "cell_type": "code",
   "execution_count": null,
   "id": "7c5e5775",
   "metadata": {},
   "outputs": [],
   "source": []
  }
 ],
 "metadata": {
  "kernelspec": {
   "display_name": "Python 3 (ipykernel)",
   "language": "python",
   "name": "python3"
  },
  "language_info": {
   "codemirror_mode": {
    "name": "ipython",
    "version": 3
   },
   "file_extension": ".py",
   "mimetype": "text/x-python",
   "name": "python",
   "nbconvert_exporter": "python",
   "pygments_lexer": "ipython3",
   "version": "3.9.7"
  }
 },
 "nbformat": 4,
 "nbformat_minor": 5
}
